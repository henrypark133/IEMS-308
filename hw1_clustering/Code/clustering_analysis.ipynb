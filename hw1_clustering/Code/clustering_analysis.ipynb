{
 "cells": [
  {
   "cell_type": "markdown",
   "metadata": {},
   "source": [
    "Import the necessary libraries"
   ]
  },
  {
   "cell_type": "code",
   "execution_count": 88,
   "metadata": {
    "collapsed": true
   },
   "outputs": [],
   "source": [
    "import pandas as pd\n",
    "import numpy as np\n",
    "import matplotlib.pyplot as plt\n",
    "\n",
    "from numpy import genfromtxt\n",
    "from sklearn import cluster\n",
    "\n",
    "%matplotlib inline"
   ]
  },
  {
   "cell_type": "markdown",
   "metadata": {},
   "source": [
    "Import CSV with tab delimiter formatting into pandas"
   ]
  },
  {
   "cell_type": "code",
   "execution_count": 2,
   "metadata": {},
   "outputs": [
    {
     "name": "stderr",
     "output_type": "stream",
     "text": [
      "/Users/home/anaconda3/lib/python3.6/site-packages/IPython/core/interactiveshell.py:2698: DtypeWarning: Columns (10) have mixed types. Specify dtype option on import or set low_memory=False.\n",
      "  interactivity=interactivity, compiler=compiler, result=result)\n"
     ]
    }
   ],
   "source": [
    "df = pd.read_table('Medicare_Provider_Util_Payment_PUF_CY2015.txt', skiprows=range(1, 2))"
   ]
  },
  {
   "cell_type": "code",
   "execution_count": 245,
   "metadata": {},
   "outputs": [
    {
     "data": {
      "text/plain": [
       "['npi',\n",
       " 'nppes_provider_last_org_name',\n",
       " 'nppes_provider_first_name',\n",
       " 'nppes_provider_mi',\n",
       " 'nppes_credentials',\n",
       " 'nppes_provider_gender',\n",
       " 'nppes_entity_code',\n",
       " 'nppes_provider_street1',\n",
       " 'nppes_provider_street2',\n",
       " 'nppes_provider_city',\n",
       " 'nppes_provider_zip',\n",
       " 'nppes_provider_state',\n",
       " 'nppes_provider_country',\n",
       " 'provider_type',\n",
       " 'medicare_participation_indicator',\n",
       " 'place_of_service',\n",
       " 'hcpcs_code',\n",
       " 'hcpcs_description',\n",
       " 'hcpcs_drug_indicator',\n",
       " 'line_srvc_cnt',\n",
       " 'bene_unique_cnt',\n",
       " 'bene_day_srvc_cnt',\n",
       " 'average_Medicare_allowed_amt',\n",
       " 'average_submitted_chrg_amt',\n",
       " 'average_Medicare_payment_amt',\n",
       " 'average_Medicare_standard_amt']"
      ]
     },
     "execution_count": 245,
     "metadata": {},
     "output_type": "execute_result"
    }
   ],
   "source": [
    "list(df)"
   ]
  },
  {
   "cell_type": "code",
   "execution_count": 246,
   "metadata": {},
   "outputs": [
    {
     "data": {
      "text/html": [
       "<div>\n",
       "<style>\n",
       "    .dataframe thead tr:only-child th {\n",
       "        text-align: right;\n",
       "    }\n",
       "\n",
       "    .dataframe thead th {\n",
       "        text-align: left;\n",
       "    }\n",
       "\n",
       "    .dataframe tbody tr th {\n",
       "        vertical-align: top;\n",
       "    }\n",
       "</style>\n",
       "<table border=\"1\" class=\"dataframe\">\n",
       "  <thead>\n",
       "    <tr style=\"text-align: right;\">\n",
       "      <th></th>\n",
       "      <th>npi</th>\n",
       "      <th>nppes_provider_last_org_name</th>\n",
       "      <th>nppes_provider_first_name</th>\n",
       "      <th>nppes_provider_mi</th>\n",
       "      <th>nppes_credentials</th>\n",
       "      <th>nppes_provider_gender</th>\n",
       "      <th>nppes_entity_code</th>\n",
       "      <th>nppes_provider_street1</th>\n",
       "      <th>nppes_provider_street2</th>\n",
       "      <th>nppes_provider_city</th>\n",
       "      <th>...</th>\n",
       "      <th>hcpcs_code</th>\n",
       "      <th>hcpcs_description</th>\n",
       "      <th>hcpcs_drug_indicator</th>\n",
       "      <th>line_srvc_cnt</th>\n",
       "      <th>bene_unique_cnt</th>\n",
       "      <th>bene_day_srvc_cnt</th>\n",
       "      <th>average_Medicare_allowed_amt</th>\n",
       "      <th>average_submitted_chrg_amt</th>\n",
       "      <th>average_Medicare_payment_amt</th>\n",
       "      <th>average_Medicare_standard_amt</th>\n",
       "    </tr>\n",
       "  </thead>\n",
       "  <tbody>\n",
       "    <tr>\n",
       "      <th>0</th>\n",
       "      <td>1003000126</td>\n",
       "      <td>ENKESHAFI</td>\n",
       "      <td>ARDALAN</td>\n",
       "      <td>NaN</td>\n",
       "      <td>M.D.</td>\n",
       "      <td>M</td>\n",
       "      <td>I</td>\n",
       "      <td>900 SETON DR</td>\n",
       "      <td>NaN</td>\n",
       "      <td>CUMBERLAND</td>\n",
       "      <td>...</td>\n",
       "      <td>99217</td>\n",
       "      <td>Hospital observation care discharge</td>\n",
       "      <td>N</td>\n",
       "      <td>23.0</td>\n",
       "      <td>23</td>\n",
       "      <td>23</td>\n",
       "      <td>72.680000</td>\n",
       "      <td>328.000000</td>\n",
       "      <td>54.502609</td>\n",
       "      <td>55.280870</td>\n",
       "    </tr>\n",
       "    <tr>\n",
       "      <th>1</th>\n",
       "      <td>1003000126</td>\n",
       "      <td>ENKESHAFI</td>\n",
       "      <td>ARDALAN</td>\n",
       "      <td>NaN</td>\n",
       "      <td>M.D.</td>\n",
       "      <td>M</td>\n",
       "      <td>I</td>\n",
       "      <td>900 SETON DR</td>\n",
       "      <td>NaN</td>\n",
       "      <td>CUMBERLAND</td>\n",
       "      <td>...</td>\n",
       "      <td>99219</td>\n",
       "      <td>Hospital observation care typically 50 minutes</td>\n",
       "      <td>N</td>\n",
       "      <td>18.0</td>\n",
       "      <td>18</td>\n",
       "      <td>18</td>\n",
       "      <td>135.850000</td>\n",
       "      <td>614.000000</td>\n",
       "      <td>100.958889</td>\n",
       "      <td>102.348889</td>\n",
       "    </tr>\n",
       "    <tr>\n",
       "      <th>2</th>\n",
       "      <td>1003000126</td>\n",
       "      <td>ENKESHAFI</td>\n",
       "      <td>ARDALAN</td>\n",
       "      <td>NaN</td>\n",
       "      <td>M.D.</td>\n",
       "      <td>M</td>\n",
       "      <td>I</td>\n",
       "      <td>900 SETON DR</td>\n",
       "      <td>NaN</td>\n",
       "      <td>CUMBERLAND</td>\n",
       "      <td>...</td>\n",
       "      <td>99221</td>\n",
       "      <td>Initial hospital inpatient care, typically 30 ...</td>\n",
       "      <td>N</td>\n",
       "      <td>59.0</td>\n",
       "      <td>58</td>\n",
       "      <td>59</td>\n",
       "      <td>101.365085</td>\n",
       "      <td>333.288136</td>\n",
       "      <td>79.469661</td>\n",
       "      <td>80.859831</td>\n",
       "    </tr>\n",
       "    <tr>\n",
       "      <th>3</th>\n",
       "      <td>1003000126</td>\n",
       "      <td>ENKESHAFI</td>\n",
       "      <td>ARDALAN</td>\n",
       "      <td>NaN</td>\n",
       "      <td>M.D.</td>\n",
       "      <td>M</td>\n",
       "      <td>I</td>\n",
       "      <td>900 SETON DR</td>\n",
       "      <td>NaN</td>\n",
       "      <td>CUMBERLAND</td>\n",
       "      <td>...</td>\n",
       "      <td>99222</td>\n",
       "      <td>Initial hospital inpatient care, typically 50 ...</td>\n",
       "      <td>N</td>\n",
       "      <td>132.0</td>\n",
       "      <td>130</td>\n",
       "      <td>132</td>\n",
       "      <td>139.010455</td>\n",
       "      <td>356.492424</td>\n",
       "      <td>107.933409</td>\n",
       "      <td>107.969621</td>\n",
       "    </tr>\n",
       "    <tr>\n",
       "      <th>4</th>\n",
       "      <td>1003000126</td>\n",
       "      <td>ENKESHAFI</td>\n",
       "      <td>ARDALAN</td>\n",
       "      <td>NaN</td>\n",
       "      <td>M.D.</td>\n",
       "      <td>M</td>\n",
       "      <td>I</td>\n",
       "      <td>900 SETON DR</td>\n",
       "      <td>NaN</td>\n",
       "      <td>CUMBERLAND</td>\n",
       "      <td>...</td>\n",
       "      <td>99223</td>\n",
       "      <td>Initial hospital inpatient care, typically 70 ...</td>\n",
       "      <td>N</td>\n",
       "      <td>220.0</td>\n",
       "      <td>215</td>\n",
       "      <td>220</td>\n",
       "      <td>205.185955</td>\n",
       "      <td>631.186364</td>\n",
       "      <td>157.908955</td>\n",
       "      <td>160.930409</td>\n",
       "    </tr>\n",
       "  </tbody>\n",
       "</table>\n",
       "<p>5 rows × 26 columns</p>\n",
       "</div>"
      ],
      "text/plain": [
       "          npi nppes_provider_last_org_name nppes_provider_first_name  \\\n",
       "0  1003000126                    ENKESHAFI                   ARDALAN   \n",
       "1  1003000126                    ENKESHAFI                   ARDALAN   \n",
       "2  1003000126                    ENKESHAFI                   ARDALAN   \n",
       "3  1003000126                    ENKESHAFI                   ARDALAN   \n",
       "4  1003000126                    ENKESHAFI                   ARDALAN   \n",
       "\n",
       "  nppes_provider_mi nppes_credentials nppes_provider_gender nppes_entity_code  \\\n",
       "0               NaN              M.D.                     M                 I   \n",
       "1               NaN              M.D.                     M                 I   \n",
       "2               NaN              M.D.                     M                 I   \n",
       "3               NaN              M.D.                     M                 I   \n",
       "4               NaN              M.D.                     M                 I   \n",
       "\n",
       "  nppes_provider_street1 nppes_provider_street2 nppes_provider_city  \\\n",
       "0           900 SETON DR                    NaN          CUMBERLAND   \n",
       "1           900 SETON DR                    NaN          CUMBERLAND   \n",
       "2           900 SETON DR                    NaN          CUMBERLAND   \n",
       "3           900 SETON DR                    NaN          CUMBERLAND   \n",
       "4           900 SETON DR                    NaN          CUMBERLAND   \n",
       "\n",
       "               ...               hcpcs_code  \\\n",
       "0              ...                    99217   \n",
       "1              ...                    99219   \n",
       "2              ...                    99221   \n",
       "3              ...                    99222   \n",
       "4              ...                    99223   \n",
       "\n",
       "                                   hcpcs_description hcpcs_drug_indicator  \\\n",
       "0                Hospital observation care discharge                    N   \n",
       "1     Hospital observation care typically 50 minutes                    N   \n",
       "2  Initial hospital inpatient care, typically 30 ...                    N   \n",
       "3  Initial hospital inpatient care, typically 50 ...                    N   \n",
       "4  Initial hospital inpatient care, typically 70 ...                    N   \n",
       "\n",
       "  line_srvc_cnt bene_unique_cnt bene_day_srvc_cnt  \\\n",
       "0          23.0              23                23   \n",
       "1          18.0              18                18   \n",
       "2          59.0              58                59   \n",
       "3         132.0             130               132   \n",
       "4         220.0             215               220   \n",
       "\n",
       "  average_Medicare_allowed_amt average_submitted_chrg_amt  \\\n",
       "0                    72.680000                 328.000000   \n",
       "1                   135.850000                 614.000000   \n",
       "2                   101.365085                 333.288136   \n",
       "3                   139.010455                 356.492424   \n",
       "4                   205.185955                 631.186364   \n",
       "\n",
       "  average_Medicare_payment_amt  average_Medicare_standard_amt  \n",
       "0                    54.502609                      55.280870  \n",
       "1                   100.958889                     102.348889  \n",
       "2                    79.469661                      80.859831  \n",
       "3                   107.933409                     107.969621  \n",
       "4                   157.908955                     160.930409  \n",
       "\n",
       "[5 rows x 26 columns]"
      ]
     },
     "execution_count": 246,
     "metadata": {},
     "output_type": "execute_result"
    }
   ],
   "source": [
    "df.head(5)"
   ]
  },
  {
   "cell_type": "code",
   "execution_count": 21,
   "metadata": {},
   "outputs": [
    {
     "data": {
      "text/plain": [
       "provider_type\n",
       "Addiction Medicine                                 668\n",
       "All Other Suppliers                                  9\n",
       "Allergy/Immunology                               28468\n",
       "Ambulance Service Supplier                          59\n",
       "Anesthesiologist Assistants                       3784\n",
       "Anesthesiology                                  227356\n",
       "Audiologist (billing independently)              19130\n",
       "CRNA                                            107003\n",
       "Cardiac Electrophysiology                        50385\n",
       "Cardiac Surgery                                  14272\n",
       "Cardiology                                      458490\n",
       "Certified Clinical Nurse Specialist               7190\n",
       "Certified Nurse Midwife                            968\n",
       "Chiropractic                                     48234\n",
       "Clinical Laboratory                                902\n",
       "Clinical Psychologist                            32082\n",
       "Colorectal Surgery (formerly proctology)         13033\n",
       "Critical Care (Intensivists)                     21781\n",
       "Dermatology                                     198124\n",
       "Diagnostic Radiology                           1222815\n",
       "Emergency Medicine                              225391\n",
       "Endocrinology                                    53350\n",
       "Family Practice                                 972325\n",
       "Gastroenterology                                173254\n",
       "General Practice                                 46214\n",
       "General Surgery                                 160746\n",
       "Geriatric Medicine                               20206\n",
       "Geriatric Psychiatry                              1086\n",
       "Gynecological/Oncology                            7901\n",
       "Hand Surgery                                     19844\n",
       "                                                ...   \n",
       "Osteopathic Manipulative Medicine                 4655\n",
       "Otolaryngology                                   97689\n",
       "Pain Management                                  33759\n",
       "Pathology                                       149818\n",
       "Pediatric Medicine                                8652\n",
       "Peripheral Vascular Disease                       1165\n",
       "Physical Medicine and Rehabilitation             84378\n",
       "Physical Therapist                              223428\n",
       "Physician Assistant                             306141\n",
       "Plastic and Reconstructive Surgery               23891\n",
       "Podiatry                                        191241\n",
       "Portable X-ray                                     164\n",
       "Preventive Medicine                               1777\n",
       "Psychiatry                                       86829\n",
       "Psychologist (billing independently)               513\n",
       "Public Health Welfare Agency                         1\n",
       "Pulmonary Disease                               144706\n",
       "Radiation Oncology                               75937\n",
       "Registered Dietician/Nutrition Professional       3107\n",
       "Rheumatology                                     69920\n",
       "Sleep Medicine                                    1970\n",
       "Slide Preparation Facility                           2\n",
       "Speech Language Pathologist                       1519\n",
       "Sports Medicine                                   8800\n",
       "Surgical Oncology                                 5387\n",
       "Thoracic Surgery                                 17970\n",
       "Unknown Physician Specialty Code                  4094\n",
       "Unknown Supplier/Provider                           71\n",
       "Urology                                         185320\n",
       "Vascular Surgery                                 60886\n",
       "Name: provider_type, Length: 86, dtype: int64"
      ]
     },
     "execution_count": 21,
     "metadata": {},
     "output_type": "execute_result"
    }
   ],
   "source": [
    "df.groupby('provider_type').provider_type.count()"
   ]
  },
  {
   "cell_type": "code",
   "execution_count": 270,
   "metadata": {
    "collapsed": true
   },
   "outputs": [],
   "source": [
    "df = df[df['nppes_entity_code'] == 'I']\n",
    "df = df[df['medicare_participation_indicator'] == 'Y']\n",
    "df_rad = df.loc[df['provider_type'] == 'Diagnostic Radiology']"
   ]
  },
  {
   "cell_type": "code",
   "execution_count": 271,
   "metadata": {},
   "outputs": [],
   "source": [
    "df_rad = df_rad[['nppes_provider_last_org_name','nppes_provider_first_name','nppes_provider_zip','average_Medicare_standard_amt','nppes_provider_gender','line_srvc_cnt']]"
   ]
  },
  {
   "cell_type": "code",
   "execution_count": 272,
   "metadata": {},
   "outputs": [
    {
     "data": {
      "text/html": [
       "<div>\n",
       "<style>\n",
       "    .dataframe thead tr:only-child th {\n",
       "        text-align: right;\n",
       "    }\n",
       "\n",
       "    .dataframe thead th {\n",
       "        text-align: left;\n",
       "    }\n",
       "\n",
       "    .dataframe tbody tr th {\n",
       "        vertical-align: top;\n",
       "    }\n",
       "</style>\n",
       "<table border=\"1\" class=\"dataframe\">\n",
       "  <thead>\n",
       "    <tr style=\"text-align: right;\">\n",
       "      <th></th>\n",
       "      <th>nppes_provider_last_org_name</th>\n",
       "      <th>nppes_provider_first_name</th>\n",
       "      <th>nppes_provider_zip</th>\n",
       "      <th>average_Medicare_standard_amt</th>\n",
       "      <th>nppes_provider_gender</th>\n",
       "      <th>line_srvc_cnt</th>\n",
       "    </tr>\n",
       "  </thead>\n",
       "  <tbody>\n",
       "    <tr>\n",
       "      <th>297</th>\n",
       "      <td>OWENS</td>\n",
       "      <td>JUSTIN</td>\n",
       "      <td>711102425</td>\n",
       "      <td>32.872857</td>\n",
       "      <td>M</td>\n",
       "      <td>21.0</td>\n",
       "    </tr>\n",
       "    <tr>\n",
       "      <th>298</th>\n",
       "      <td>OWENS</td>\n",
       "      <td>JUSTIN</td>\n",
       "      <td>711102425</td>\n",
       "      <td>7.320000</td>\n",
       "      <td>M</td>\n",
       "      <td>68.0</td>\n",
       "    </tr>\n",
       "    <tr>\n",
       "      <th>299</th>\n",
       "      <td>OWENS</td>\n",
       "      <td>JUSTIN</td>\n",
       "      <td>711102425</td>\n",
       "      <td>8.626713</td>\n",
       "      <td>M</td>\n",
       "      <td>143.0</td>\n",
       "    </tr>\n",
       "    <tr>\n",
       "      <th>300</th>\n",
       "      <td>OWENS</td>\n",
       "      <td>JUSTIN</td>\n",
       "      <td>711102425</td>\n",
       "      <td>43.240938</td>\n",
       "      <td>M</td>\n",
       "      <td>32.0</td>\n",
       "    </tr>\n",
       "    <tr>\n",
       "      <th>301</th>\n",
       "      <td>OWENS</td>\n",
       "      <td>JUSTIN</td>\n",
       "      <td>711102425</td>\n",
       "      <td>7.880000</td>\n",
       "      <td>M</td>\n",
       "      <td>13.0</td>\n",
       "    </tr>\n",
       "  </tbody>\n",
       "</table>\n",
       "</div>"
      ],
      "text/plain": [
       "    nppes_provider_last_org_name nppes_provider_first_name nppes_provider_zip  \\\n",
       "297                        OWENS                    JUSTIN          711102425   \n",
       "298                        OWENS                    JUSTIN          711102425   \n",
       "299                        OWENS                    JUSTIN          711102425   \n",
       "300                        OWENS                    JUSTIN          711102425   \n",
       "301                        OWENS                    JUSTIN          711102425   \n",
       "\n",
       "     average_Medicare_standard_amt nppes_provider_gender  line_srvc_cnt  \n",
       "297                      32.872857                     M           21.0  \n",
       "298                       7.320000                     M           68.0  \n",
       "299                       8.626713                     M          143.0  \n",
       "300                      43.240938                     M           32.0  \n",
       "301                       7.880000                     M           13.0  "
      ]
     },
     "execution_count": 272,
     "metadata": {},
     "output_type": "execute_result"
    }
   ],
   "source": [
    "df_rad.head(5)"
   ]
  },
  {
   "cell_type": "code",
   "execution_count": 273,
   "metadata": {
    "collapsed": true
   },
   "outputs": [],
   "source": [
    "outlier = df_rad['average_Medicare_standard_amt'].mean()+2*df_rad['average_Medicare_standard_amt'].std()"
   ]
  },
  {
   "cell_type": "code",
   "execution_count": 274,
   "metadata": {
    "collapsed": true
   },
   "outputs": [],
   "source": [
    "df_rad = df_rad[df_rad['average_Medicare_standard_amt'] <= outlier]"
   ]
  },
  {
   "cell_type": "code",
   "execution_count": 275,
   "metadata": {},
   "outputs": [
    {
     "data": {
      "text/plain": [
       "array([[<matplotlib.axes._subplots.AxesSubplot object at 0x12410e208>]], dtype=object)"
      ]
     },
     "execution_count": 275,
     "metadata": {},
     "output_type": "execute_result"
    },
    {
     "data": {
      "image/png": "[encoded data removed]",
      "text/plain": [
       "<matplotlib.figure.Figure at 0x137d9e6d8>"
      ]
     },
     "metadata": {},
     "output_type": "display_data"
    }
   ],
   "source": [
    "df_rad[['average_Medicare_standard_amt']].hist()"
   ]
  },
  {
   "cell_type": "code",
   "execution_count": 277,
   "metadata": {
    "collapsed": true
   },
   "outputs": [],
   "source": [
    "# Define a lambda function to compute the weighted mean:\n",
    "wm = lambda x: np.average(x, weights=df_rad.loc[x.index, 'line_srvc_cnt'])"
   ]
  },
  {
   "cell_type": "code",
   "execution_count": 278,
   "metadata": {},
   "outputs": [
    {
     "name": "stderr",
     "output_type": "stream",
     "text": [
      "/Users/home/anaconda3/lib/python3.6/site-packages/pandas/core/groupby.py:4036: FutureWarning: using a dict with renaming is deprecated and will be removed in a future version\n",
      "  return super(DataFrameGroupBy, self).aggregate(arg, *args, **kwargs)\n"
     ]
    }
   ],
   "source": [
    "# Define a dictionary with the functions to apply for a given column:\n",
    "f = {'line_srvc_cnt': ['sum'], 'average_Medicare_standard_amt': {'average_Medicare_standard_amt' : wm} }\n",
    "\n",
    "# Groupby and aggregate with your dictionary:\n",
    "df_rad = df_rad.groupby(['nppes_provider_last_org_name','nppes_provider_first_name','nppes_provider_zip','nppes_provider_gender']).agg(f).reset_index()"
   ]
  },
  {
   "cell_type": "code",
   "execution_count": 334,
   "metadata": {},
   "outputs": [
    {
     "name": "stderr",
     "output_type": "stream",
     "text": [
      "/Users/home/anaconda3/lib/python3.6/site-packages/pandas/core/base.py:331: PerformanceWarning: dropping on a non-lexsorted multi-index without a level parameter may impact performance.\n",
      "  return self.obj.drop(self.exclusions, axis=1)\n"
     ]
    },
    {
     "data": {
      "text/html": [
       "<div>\n",
       "<style>\n",
       "    .dataframe thead tr:only-child th {\n",
       "        text-align: right;\n",
       "    }\n",
       "\n",
       "    .dataframe thead th {\n",
       "        text-align: left;\n",
       "    }\n",
       "\n",
       "    .dataframe tbody tr th {\n",
       "        vertical-align: top;\n",
       "    }\n",
       "</style>\n",
       "<table border=\"1\" class=\"dataframe\">\n",
       "  <thead>\n",
       "    <tr>\n",
       "      <th></th>\n",
       "      <th>nppes_provider_last_org_name</th>\n",
       "      <th>nppes_provider_first_name</th>\n",
       "      <th>nppes_provider_zip</th>\n",
       "      <th>line_srvc_cnt</th>\n",
       "      <th>average_Medicare_standard_amt</th>\n",
       "    </tr>\n",
       "    <tr>\n",
       "      <th></th>\n",
       "      <th></th>\n",
       "      <th></th>\n",
       "      <th></th>\n",
       "      <th>sum</th>\n",
       "      <th>average_Medicare_standard_amt</th>\n",
       "    </tr>\n",
       "    <tr>\n",
       "      <th>nppes_provider_gender</th>\n",
       "      <th></th>\n",
       "      <th></th>\n",
       "      <th></th>\n",
       "      <th></th>\n",
       "      <th></th>\n",
       "    </tr>\n",
       "  </thead>\n",
       "  <tbody>\n",
       "    <tr>\n",
       "      <th>F</th>\n",
       "      <td>6577</td>\n",
       "      <td>6577</td>\n",
       "      <td>6577</td>\n",
       "      <td>6577</td>\n",
       "      <td>6577</td>\n",
       "    </tr>\n",
       "    <tr>\n",
       "      <th>M</th>\n",
       "      <td>22275</td>\n",
       "      <td>22275</td>\n",
       "      <td>22275</td>\n",
       "      <td>22275</td>\n",
       "      <td>22275</td>\n",
       "    </tr>\n",
       "  </tbody>\n",
       "</table>\n",
       "</div>"
      ],
      "text/plain": [
       "                      nppes_provider_last_org_name nppes_provider_first_name  \\\n",
       "                                                                               \n",
       "nppes_provider_gender                                                          \n",
       "F                                             6577                      6577   \n",
       "M                                            22275                     22275   \n",
       "\n",
       "                      nppes_provider_zip line_srvc_cnt  \\\n",
       "                                                   sum   \n",
       "nppes_provider_gender                                    \n",
       "F                                   6577          6577   \n",
       "M                                  22275         22275   \n",
       "\n",
       "                      average_Medicare_standard_amt  \n",
       "                      average_Medicare_standard_amt  \n",
       "nppes_provider_gender                                \n",
       "F                                              6577  \n",
       "M                                             22275  "
      ]
     },
     "execution_count": 334,
     "metadata": {},
     "output_type": "execute_result"
    }
   ],
   "source": [
    "df_rad.groupby(['nppes_provider_gender']).count()"
   ]
  },
  {
   "cell_type": "code",
   "execution_count": 335,
   "metadata": {},
   "outputs": [
    {
     "data": {
      "text/plain": [
       "0.29526374859708193"
      ]
     },
     "execution_count": 335,
     "metadata": {},
     "output_type": "execute_result"
    }
   ],
   "source": [
    "6577/22275"
   ]
  },
  {
   "cell_type": "code",
   "execution_count": 282,
   "metadata": {},
   "outputs": [],
   "source": [
    "df_rad['nppes_provider_zip'] = df_rad['nppes_provider_zip'].astype(str).str.slice(0,5)"
   ]
  },
  {
   "cell_type": "code",
   "execution_count": 283,
   "metadata": {},
   "outputs": [
    {
     "data": {
      "text/html": [
       "<div>\n",
       "<style>\n",
       "    .dataframe thead tr:only-child th {\n",
       "        text-align: right;\n",
       "    }\n",
       "\n",
       "    .dataframe thead th {\n",
       "        text-align: left;\n",
       "    }\n",
       "\n",
       "    .dataframe tbody tr th {\n",
       "        vertical-align: top;\n",
       "    }\n",
       "</style>\n",
       "<table border=\"1\" class=\"dataframe\">\n",
       "  <thead>\n",
       "    <tr>\n",
       "      <th></th>\n",
       "      <th>nppes_provider_last_org_name</th>\n",
       "      <th>nppes_provider_first_name</th>\n",
       "      <th>nppes_provider_zip</th>\n",
       "      <th>nppes_provider_gender</th>\n",
       "      <th>line_srvc_cnt</th>\n",
       "      <th>average_Medicare_standard_amt</th>\n",
       "    </tr>\n",
       "    <tr>\n",
       "      <th></th>\n",
       "      <th></th>\n",
       "      <th></th>\n",
       "      <th></th>\n",
       "      <th></th>\n",
       "      <th>sum</th>\n",
       "      <th>average_Medicare_standard_amt</th>\n",
       "    </tr>\n",
       "  </thead>\n",
       "  <tbody>\n",
       "    <tr>\n",
       "      <th>0</th>\n",
       "      <td>AADLAND</td>\n",
       "      <td>TIMOTHY</td>\n",
       "      <td>55905</td>\n",
       "      <td>M</td>\n",
       "      <td>2520.0</td>\n",
       "      <td>23.269175</td>\n",
       "    </tr>\n",
       "    <tr>\n",
       "      <th>1</th>\n",
       "      <td>AAFEDT</td>\n",
       "      <td>BRADLEY</td>\n",
       "      <td>58201</td>\n",
       "      <td>M</td>\n",
       "      <td>4644.0</td>\n",
       "      <td>14.160478</td>\n",
       "    </tr>\n",
       "    <tr>\n",
       "      <th>2</th>\n",
       "      <td>AAGESEN</td>\n",
       "      <td>MATTHEW</td>\n",
       "      <td>43606</td>\n",
       "      <td>M</td>\n",
       "      <td>3468.0</td>\n",
       "      <td>23.077364</td>\n",
       "    </tr>\n",
       "    <tr>\n",
       "      <th>3</th>\n",
       "      <td>AALBERG</td>\n",
       "      <td>JOSHUA</td>\n",
       "      <td>43202</td>\n",
       "      <td>M</td>\n",
       "      <td>2506.0</td>\n",
       "      <td>20.777466</td>\n",
       "    </tr>\n",
       "    <tr>\n",
       "      <th>4</th>\n",
       "      <td>AALTONEN</td>\n",
       "      <td>ERIC</td>\n",
       "      <td>10016</td>\n",
       "      <td>M</td>\n",
       "      <td>348.0</td>\n",
       "      <td>67.893822</td>\n",
       "    </tr>\n",
       "  </tbody>\n",
       "</table>\n",
       "</div>"
      ],
      "text/plain": [
       "  nppes_provider_last_org_name nppes_provider_first_name nppes_provider_zip  \\\n",
       "                                                                              \n",
       "0                      AADLAND                   TIMOTHY              55905   \n",
       "1                       AAFEDT                   BRADLEY              58201   \n",
       "2                      AAGESEN                   MATTHEW              43606   \n",
       "3                      AALBERG                    JOSHUA              43202   \n",
       "4                     AALTONEN                      ERIC              10016   \n",
       "\n",
       "  nppes_provider_gender line_srvc_cnt average_Medicare_standard_amt  \n",
       "                                  sum average_Medicare_standard_amt  \n",
       "0                     M        2520.0                     23.269175  \n",
       "1                     M        4644.0                     14.160478  \n",
       "2                     M        3468.0                     23.077364  \n",
       "3                     M        2506.0                     20.777466  \n",
       "4                     M         348.0                     67.893822  "
      ]
     },
     "execution_count": 283,
     "metadata": {},
     "output_type": "execute_result"
    }
   ],
   "source": [
    "df_rad.head(5)"
   ]
  },
  {
   "cell_type": "code",
   "execution_count": 284,
   "metadata": {
    "collapsed": true
   },
   "outputs": [],
   "source": [
    "temp = df_rad['nppes_provider_zip']"
   ]
  },
  {
   "cell_type": "code",
   "execution_count": 285,
   "metadata": {
    "collapsed": true
   },
   "outputs": [],
   "source": [
    "search_zip = pd.to_numeric(temp, errors='coerce')\n",
    "search_zip.fillna(0, inplace=True)\n",
    "temp = 0"
   ]
  },
  {
   "cell_type": "code",
   "execution_count": 290,
   "metadata": {
    "collapsed": true
   },
   "outputs": [],
   "source": [
    "zip_matching = genfromtxt('US Zip Codes from 2013 Government Data.csv', delimiter=',')\n",
    "zip_matching = zip_matching[1:]\n",
    "zipcode = zip_matching[:,0]"
   ]
  },
  {
   "cell_type": "code",
   "execution_count": 291,
   "metadata": {},
   "outputs": [
    {
     "ename": "AttributeError",
     "evalue": "'numpy.ndarray' object has no attribute 'as_matrix'",
     "output_type": "error",
     "traceback": [
      "\u001b[0;31m---------------------------------------------------------------------------\u001b[0m",
      "\u001b[0;31mAttributeError\u001b[0m                            Traceback (most recent call last)",
      "\u001b[0;32m<ipython-input-291-1e0c3deba71c>\u001b[0m in \u001b[0;36m<module>\u001b[0;34m()\u001b[0m\n\u001b[0;32m----> 1\u001b[0;31m \u001b[0msearch_zip\u001b[0m \u001b[0;34m=\u001b[0m \u001b[0msearch_zip\u001b[0m\u001b[0;34m.\u001b[0m\u001b[0mas_matrix\u001b[0m\u001b[0;34m(\u001b[0m\u001b[0;34m)\u001b[0m\u001b[0;34m\u001b[0m\u001b[0m\n\u001b[0m",
      "\u001b[0;31mAttributeError\u001b[0m: 'numpy.ndarray' object has no attribute 'as_matrix'"
     ]
    }
   ],
   "source": [
    "search_zip = search_zip.as_matrix()"
   ]
  },
  {
   "cell_type": "code",
   "execution_count": 288,
   "metadata": {
    "collapsed": true
   },
   "outputs": [],
   "source": [
    "lat_long = np.zeros((int(np.shape(search_zip)[0]),2))"
   ]
  },
  {
   "cell_type": "code",
   "execution_count": 289,
   "metadata": {},
   "outputs": [
    {
     "data": {
      "text/plain": [
       "array([[  44.055948,  -92.525906],\n",
       "       [  47.866638,  -97.141144],\n",
       "       [  41.673136,  -83.611414],\n",
       "       ..., \n",
       "       [  47.645706, -117.427263],\n",
       "       [  43.114542,  -77.554976],\n",
       "       [  32.856347, -117.250058]])"
      ]
     },
     "execution_count": 289,
     "metadata": {},
     "output_type": "execute_result"
    }
   ],
   "source": [
    "prev_zip = 0\n",
    "prev_lat = 0\n",
    "prev_long = 0\n",
    "loc = 0\n",
    "exclude = []\n",
    "for item in search_zip:\n",
    "    if item == 0:\n",
    "        exclude.append(loc)\n",
    "        prev_lat = 0\n",
    "        prev_long = 0\n",
    "    elif prev_zip is not item:\n",
    "        temp = np.searchsorted(zipcode, item)\n",
    "        if (temp == 0) or (temp == np.size(zipcode)):\n",
    "            exclude.append(loc)\n",
    "        else:\n",
    "            prev_lat = zip_matching[temp][1]\n",
    "            prev_long = zip_matching[temp][2]\n",
    "    lat_long[loc][0] = prev_lat\n",
    "    lat_long[loc][1] = prev_long\n",
    "    loc += 1\n",
    "lat_long"
   ]
  },
  {
   "cell_type": "code",
   "execution_count": 295,
   "metadata": {},
   "outputs": [
    {
     "data": {
      "text/plain": [
       "array([['AADLAND', 'TIMOTHY', '55905', 'M', 2520.0, 23.26917460320127],\n",
       "       ['AAFEDT', 'BRADLEY', '58201', 'M', 4644.0, 14.160478036171364],\n",
       "       ['AAGESEN', 'MATTHEW', '43606', 'M', 3468.0, 23.077364475197143],\n",
       "       ['AALBERG', 'JOSHUA', '43202', 'M', 2506.0, 20.77746608146129]], dtype=object)"
      ]
     },
     "execution_count": 295,
     "metadata": {},
     "output_type": "execute_result"
    }
   ],
   "source": [
    "temp = df_rad.as_matrix()\n",
    "temp[0:4,:]"
   ]
  },
  {
   "cell_type": "code",
   "execution_count": 301,
   "metadata": {},
   "outputs": [
    {
     "data": {
      "text/plain": [
       "6577"
      ]
     },
     "execution_count": 301,
     "metadata": {},
     "output_type": "execute_result"
    }
   ],
   "source": [
    "np.count_nonzero(temp[:,3]=='F')"
   ]
  },
  {
   "cell_type": "code",
   "execution_count": 306,
   "metadata": {},
   "outputs": [],
   "source": [
    "revenue = np.multiply(temp[:,4],temp[:,5])"
   ]
  },
  {
   "cell_type": "code",
   "execution_count": 313,
   "metadata": {},
   "outputs": [],
   "source": [
    "revenue = revenue.reshape(revenue.shape[0],-1)"
   ]
  },
  {
   "cell_type": "code",
   "execution_count": 315,
   "metadata": {},
   "outputs": [],
   "source": [
    "temp = np.concatenate((temp,revenue), axis = 1)"
   ]
  },
  {
   "cell_type": "code",
   "execution_count": 316,
   "metadata": {
    "collapsed": true
   },
   "outputs": [],
   "source": [
    "analysis = np.concatenate((temp,lat_long), axis = 1)"
   ]
  },
  {
   "cell_type": "code",
   "execution_count": 318,
   "metadata": {},
   "outputs": [
    {
     "data": {
      "text/plain": [
       "9"
      ]
     },
     "execution_count": 318,
     "metadata": {},
     "output_type": "execute_result"
    }
   ],
   "source": [
    "np.size(analysis,1)"
   ]
  },
  {
   "cell_type": "code",
   "execution_count": 299,
   "metadata": {
    "collapsed": true
   },
   "outputs": [],
   "source": [
    "analysis = np.delete(analysis,exclude,axis=0)"
   ]
  },
  {
   "cell_type": "code",
   "execution_count": 319,
   "metadata": {
    "collapsed": true
   },
   "outputs": [],
   "source": [
    "clustering = analysis[:,[6,7,8]]"
   ]
  },
  {
   "cell_type": "code",
   "execution_count": 320,
   "metadata": {
    "collapsed": true
   },
   "outputs": [],
   "source": [
    "sd_list = []\n",
    "mean_list = []\n",
    "for i in range(0,np.size(clustering,1)):\n",
    "    sd = clustering[:,i].std()\n",
    "    mean = clustering[:,i].mean()\n",
    "    clustering[:,i] = clustering[:,i] - (np.ones(np.size(clustering,0))*mean).T\n",
    "    clustering[:,i] = clustering[:,i] / sd\n",
    "    sd_list.append(sd)\n",
    "    mean_list.append(mean)"
   ]
  },
  {
   "cell_type": "code",
   "execution_count": 463,
   "metadata": {},
   "outputs": [
    {
     "data": {
      "text/plain": [
       "KMeans(algorithm='auto', copy_x=True, init='k-means++', max_iter=300,\n",
       "    n_clusters=14, n_init=10, n_jobs=1, precompute_distances='auto',\n",
       "    random_state=None, tol=0.0001, verbose=0)"
      ]
     },
     "execution_count": 463,
     "metadata": {},
     "output_type": "execute_result"
    }
   ],
   "source": [
    "kmeans = cluster.KMeans(n_clusters=14)\n",
    "kmeans.fit(clustering)"
   ]
  },
  {
   "cell_type": "code",
   "execution_count": 464,
   "metadata": {
    "collapsed": true
   },
   "outputs": [],
   "source": [
    "labels = kmeans.labels_\n",
    "centroids = kmeans.cluster_centers_\n",
    "dist = kmeans.inertia_"
   ]
  },
  {
   "cell_type": "code",
   "execution_count": 465,
   "metadata": {
    "collapsed": true
   },
   "outputs": [],
   "source": [
    "for i in range(0,np.size(centroids,1)):\n",
    "    centroids[:,i] = centroids[:,i] * sd_list[i] + (np.ones(np.size(centroids,0))*mean_list[i]).T"
   ]
  },
  {
   "cell_type": "code",
   "execution_count": 492,
   "metadata": {},
   "outputs": [
    {
     "data": {
      "text/plain": [
       "array([[  76398.142,      35.61 ,     -84.952],\n",
       "       [  41699.066,      35.972,    -116.073],\n",
       "       [ 371666.478,      36.167,     -86.583],\n",
       "       [ 158279.378,      40.362,     -81.751],\n",
       "       [  72466.539,      47.016,    -121.516],\n",
       "       [  70488.758,      26.989,     -80.317],\n",
       "       [  48101.339,      40.496,     -77.073],\n",
       "       [ 172584.902,      36.276,    -114.636],\n",
       "       [ 195041.932,      32.074,     -88.095],\n",
       "       [  34628.073,      13.718,     144.94 ],\n",
       "       [  58441.36 ,      31.148,     -95.776],\n",
       "       [ 789602.712,      33.469,     -89.021],\n",
       "       [  53840.597,      21.215,    -157.657],\n",
       "       [  62976.474,      42.454,     -90.087]])"
      ]
     },
     "execution_count": 492,
     "metadata": {},
     "output_type": "execute_result"
    }
   ],
   "source": [
    "np.around(centroids, decimals=3)"
   ]
  },
  {
   "cell_type": "code",
   "execution_count": 467,
   "metadata": {
    "collapsed": true
   },
   "outputs": [],
   "source": [
    "def count_M(data, loc, gender):\n",
    "    return np.count_nonzero(data[loc] == gender)"
   ]
  },
  {
   "cell_type": "code",
   "execution_count": 468,
   "metadata": {},
   "outputs": [
    {
     "data": {
      "text/plain": [
       "[[2499, 712, 0.2849139655862345],\n",
       " [2295, 773, 0.33681917211328977],\n",
       " [574, 148, 0.2578397212543554],\n",
       " [3179, 694, 0.21830764391318025],\n",
       " [1046, 265, 0.25334608030592737],\n",
       " [937, 241, 0.25720384204909286],\n",
       " [3735, 1769, 0.47362784471218206],\n",
       " [1280, 273, 0.21328125],\n",
       " [1748, 216, 0.12356979405034325],\n",
       " [5, 2, 0.4],\n",
       " [1798, 578, 0.32146829810901],\n",
       " [78, 17, 0.21794871794871795],\n",
       " [104, 18, 0.17307692307692307],\n",
       " [2997, 871, 0.29062395729062396]]"
      ]
     },
     "execution_count": 468,
     "metadata": {},
     "output_type": "execute_result"
    }
   ],
   "source": [
    "diction = []\n",
    "for i in range(0, np.size(centroids,0)):\n",
    "    loc = np.nonzero(labels==i)[0]\n",
    "    male = count_M(analysis[:,3], loc, 'M')\n",
    "    female = count_M(analysis[:,3], loc, 'F')\n",
    "    diction.append([male, female, female/male])\n",
    "\n",
    "diction"
   ]
  },
  {
   "cell_type": "code",
   "execution_count": 469,
   "metadata": {
    "collapsed": true
   },
   "outputs": [],
   "source": [
    "loc = np.nonzero(labels==1)[0]"
   ]
  },
  {
   "cell_type": "code",
   "execution_count": 470,
   "metadata": {},
   "outputs": [
    {
     "data": {
      "text/plain": [
       "array([    9,    20,    21, ..., 28824, 28842, 28851])"
      ]
     },
     "execution_count": 470,
     "metadata": {},
     "output_type": "execute_result"
    }
   ],
   "source": [
    "loc"
   ]
  },
  {
   "cell_type": "code",
   "execution_count": 471,
   "metadata": {},
   "outputs": [
    {
     "data": {
      "text/plain": [
       "6577"
      ]
     },
     "execution_count": 471,
     "metadata": {},
     "output_type": "execute_result"
    }
   ],
   "source": [
    "np.count_nonzero(analysis[:,3]=='F')"
   ]
  },
  {
   "cell_type": "code",
   "execution_count": 472,
   "metadata": {},
   "outputs": [],
   "source": [
    "lst = []\n",
    "add_info = 0\n",
    "for item in np.nonzero(centroids[:,0] > 100000)[0]:\n",
    "    add_info = diction[item]\n",
    "    add_info.append(centroids[item])\n",
    "    lst.append(add_info)\n",
    "    "
   ]
  },
  {
   "cell_type": "code",
   "execution_count": 473,
   "metadata": {},
   "outputs": [
    {
     "data": {
      "text/plain": [
       "[[574,\n",
       "  148,\n",
       "  0.2578397212543554,\n",
       "  array([  3.71666478e+05,   3.61673191e+01,  -8.65826864e+01])],\n",
       " [3179,\n",
       "  694,\n",
       "  0.21830764391318025,\n",
       "  array([  1.58279378e+05,   4.03622704e+01,  -8.17506998e+01])],\n",
       " [1280,\n",
       "  273,\n",
       "  0.21328125,\n",
       "  array([  1.72584902e+05,   3.62762241e+01,  -1.14635853e+02])],\n",
       " [1748,\n",
       "  216,\n",
       "  0.12356979405034325,\n",
       "  array([  1.95041932e+05,   3.20741899e+01,  -8.80951333e+01])],\n",
       " [78,\n",
       "  17,\n",
       "  0.21794871794871795,\n",
       "  array([  7.89602712e+05,   3.34694319e+01,  -8.90213361e+01])]]"
      ]
     },
     "execution_count": 473,
     "metadata": {},
     "output_type": "execute_result"
    }
   ],
   "source": [
    "lst"
   ]
  },
  {
   "cell_type": "code",
   "execution_count": 474,
   "metadata": {},
   "outputs": [
    {
     "data": {
      "text/plain": [
       "15537.462384771747"
      ]
     },
     "execution_count": 474,
     "metadata": {},
     "output_type": "execute_result"
    }
   ],
   "source": [
    "dist"
   ]
  },
  {
   "cell_type": "code",
   "execution_count": null,
   "metadata": {},
   "outputs": [],
   "source": []
  },
  {
   "cell_type": "code",
   "execution_count": 461,
   "metadata": {
    "collapsed": true
   },
   "outputs": [],
   "source": [
    "dist_hist.append(dist)"
   ]
  },
  {
   "cell_type": "code",
   "execution_count": 462,
   "metadata": {},
   "outputs": [
    {
     "data": {
      "text/plain": [
       "[63776.194547169936,\n",
       " 38008.367395601708,\n",
       " 29045.719216696732,\n",
       " 24526.54122761777,\n",
       " 21187.262906213105,\n",
       " 18072.7174155791,\n",
       " 15536.464688281987,\n",
       " 14193.309814085947]"
      ]
     },
     "execution_count": 462,
     "metadata": {},
     "output_type": "execute_result"
    }
   ],
   "source": [
    "dist_hist"
   ]
  },
  {
   "cell_type": "code",
   "execution_count": 481,
   "metadata": {},
   "outputs": [
    {
     "data": {
      "image/png": "[encoded data removed]",
      "text/plain": [
       "<matplotlib.figure.Figure at 0x137958160>"
      ]
     },
     "metadata": {},
     "output_type": "display_data"
    }
   ],
   "source": [
    "plt.plot(a, dist_hist, 'x-')\n",
    "plt.xlabel('k')\n",
    "plt.ylabel('Square Dist')\n",
    "plt.title('Selecting k')\n",
    "plt.show()"
   ]
  },
  {
   "cell_type": "code",
   "execution_count": 480,
   "metadata": {},
   "outputs": [
    {
     "data": {
      "text/plain": [
       "8"
      ]
     },
     "execution_count": 480,
     "metadata": {},
     "output_type": "execute_result"
    }
   ],
   "source": [
    "a = range(2,18,2)\n",
    "len(a)"
   ]
  },
  {
   "cell_type": "code",
   "execution_count": 485,
   "metadata": {},
   "outputs": [
    {
     "data": {
      "text/plain": [
       "array([ 0.4,  1.6])"
      ]
     },
     "execution_count": 485,
     "metadata": {},
     "output_type": "execute_result"
    }
   ],
   "source": [
    "np.around([0.37, 1.64], decimals=1)"
   ]
  },
  {
   "cell_type": "code",
   "execution_count": 487,
   "metadata": {
    "collapsed": true
   },
   "outputs": [],
   "source": [
    "np.set_printoptions(suppress=True)"
   ]
  },
  {
   "cell_type": "code",
   "execution_count": null,
   "metadata": {
    "collapsed": true
   },
   "outputs": [],
   "source": []
  }
 ],
 "metadata": {
  "kernelspec": {
   "display_name": "Python 3",
   "language": "python",
   "name": "python3"
  },
  "language_info": {
   "codemirror_mode": {
    "name": "ipython",
    "version": 3
   },
   "file_extension": ".py",
   "mimetype": "text/x-python",
   "name": "python",
   "nbconvert_exporter": "python",
   "pygments_lexer": "ipython3",
   "version": "3.6.3"
  }
 },
 "nbformat": 4,
 "nbformat_minor": 2
}
